{
 "cells": [
  {
   "cell_type": "code",
   "execution_count": 9,
   "metadata": {},
   "outputs": [],
   "source": [
    "%matplotlib inline\n",
    "\n",
    "import rasterio\n",
    "from rasterio.plot import show\n",
    "import numpy as np\n",
    "from skimage import exposure\n",
    "import matplotlib.pyplot as plt\n",
    "from PIL import Image\n",
    "import matplotlib.pyplot as plt"
   ]
  },
  {
   "cell_type": "code",
   "execution_count": 2,
   "metadata": {},
   "outputs": [],
   "source": [
    "tif_path = \"../data/AFR_fire_forest_loss_2001-20.tif\"\n",
    "tiff = rasterio.open(tif_path)"
   ]
  },
  {
   "cell_type": "code",
   "execution_count": 13,
   "metadata": {},
   "outputs": [
    {
     "name": "stdout",
     "output_type": "stream",
     "text": [
      "1\n",
      "(292004, 344004)\n",
      "292004 344004\n",
      "EPSG:4326\n",
      "(-26.0005, 60.0005, -35.0005, 38.0005)\n",
      "(0.00025, 0.00025)\n",
      "{'driver': 'GTiff', 'dtype': 'uint8', 'nodata': None, 'width': 344004, 'height': 292004, 'count': 1, 'crs': CRS.from_epsg(4326), 'transform': Affine(0.00025, 0.0, -26.0005,\n",
      "       0.0, -0.00025, 38.0005)}\n"
     ]
    }
   ],
   "source": [
    "# Number of bands\n",
    "print(tiff.count)\n",
    "\n",
    "# Image resolution\n",
    "print(tiff.shape)\n",
    "print(tiff.height, tiff.width)\n",
    "\n",
    "# CRS\n",
    "print(tiff.crs)\n",
    "\n",
    "# Bounds\n",
    "bounds = (tiff.bounds.left, tiff.bounds.right, \\\n",
    "          tiff.bounds.bottom, tiff.bounds.top)\n",
    "print(bounds)\n",
    "\n",
    "# Spatial resolution\n",
    "print(tiff.res)\n",
    "\n",
    "# Metadata\n",
    "print(tiff.meta)"
   ]
  },
  {
   "cell_type": "code",
   "execution_count": 14,
   "metadata": {},
   "outputs": [
    {
     "ename": "TypeError",
     "evalue": "'DatasetReader' object is not subscriptable",
     "output_type": "error",
     "traceback": [
      "\u001b[0;31m---------------------------------------------------------------------------\u001b[0m",
      "\u001b[0;31mTypeError\u001b[0m                                 Traceback (most recent call last)",
      "\u001b[1;32m/home/andy/code/satellite-makeathon/viz/fire_forest.ipynb Cell 4'\u001b[0m in \u001b[0;36m<cell line: 5>\u001b[0;34m()\u001b[0m\n\u001b[1;32m      <a href='vscode-notebook-cell:/home/andy/code/satellite-makeathon/viz/fire_forest.ipynb#ch0000003?line=0'>1</a>\u001b[0m \u001b[39m# Plotting\u001b[39;00m\n\u001b[1;32m      <a href='vscode-notebook-cell:/home/andy/code/satellite-makeathon/viz/fire_forest.ipynb#ch0000003?line=3'>4</a>\u001b[0m f \u001b[39m=\u001b[39m plt\u001b[39m.\u001b[39mfigure(figsize\u001b[39m=\u001b[39m(\u001b[39m6\u001b[39m, \u001b[39m6\u001b[39m))\n\u001b[0;32m----> <a href='vscode-notebook-cell:/home/andy/code/satellite-makeathon/viz/fire_forest.ipynb#ch0000003?line=4'>5</a>\u001b[0m ax \u001b[39m=\u001b[39m plt\u001b[39m.\u001b[39mimshow(tiff[\u001b[39m1000\u001b[39;49m:\u001b[39m2000\u001b[39;49m, \u001b[39m1000\u001b[39;49m:\u001b[39m2000\u001b[39;49m], extent\u001b[39m=\u001b[39mbounds)\n",
      "\u001b[0;31mTypeError\u001b[0m: 'DatasetReader' object is not subscriptable"
     ]
    },
    {
     "data": {
      "text/plain": [
       "<Figure size 432x432 with 0 Axes>"
      ]
     },
     "metadata": {},
     "output_type": "display_data"
    }
   ],
   "source": [
    "# Plotting\n",
    "\n",
    "\n",
    "f = plt.figure(figsize=(6, 6))\n",
    "ax = plt.imshow(tiff[1000:2000, 1000:2000], extent=bounds)\n"
   ]
  },
  {
   "cell_type": "code",
   "execution_count": 16,
   "metadata": {},
   "outputs": [
    {
     "ename": "MemoryError",
     "evalue": "Unable to allocate 93.6 GiB for an array with shape (1, 292004, 344004) and data type uint8",
     "output_type": "error",
     "traceback": [
      "\u001b[0;31m---------------------------------------------------------------------------\u001b[0m",
      "\u001b[0;31mMemoryError\u001b[0m                               Traceback (most recent call last)",
      "\u001b[1;32m/home/andy/code/satellite-makeathon/viz/fire_forest.ipynb Cell 5'\u001b[0m in \u001b[0;36m<cell line: 1>\u001b[0;34m()\u001b[0m\n\u001b[0;32m----> <a href='vscode-notebook-cell:/home/andy/code/satellite-makeathon/viz/fire_forest.ipynb#ch0000004?line=0'>1</a>\u001b[0m r \u001b[39m=\u001b[39m tiff\u001b[39m.\u001b[39;49mread()\n",
      "File \u001b[0;32mrasterio/_io.pyx:343\u001b[0m, in \u001b[0;36mrasterio._io.DatasetReaderBase.read\u001b[0;34m()\u001b[0m\n",
      "\u001b[0;31mMemoryError\u001b[0m: Unable to allocate 93.6 GiB for an array with shape (1, 292004, 344004) and data type uint8"
     ]
    }
   ],
   "source": [
    "r = tiff.read()"
   ]
  },
  {
   "cell_type": "code",
   "execution_count": null,
   "metadata": {},
   "outputs": [],
   "source": []
  }
 ],
 "metadata": {
  "interpreter": {
   "hash": "6a1009f743245dfcbfe3ca326ae82f3ef471212564e723261f4e662c50ce1e96"
  },
  "kernelspec": {
   "display_name": "Python 3.8.13 ('sat')",
   "language": "python",
   "name": "python3"
  },
  "language_info": {
   "codemirror_mode": {
    "name": "ipython",
    "version": 3
   },
   "file_extension": ".py",
   "mimetype": "text/x-python",
   "name": "python",
   "nbconvert_exporter": "python",
   "pygments_lexer": "ipython3",
   "version": "3.8.13"
  },
  "orig_nbformat": 4
 },
 "nbformat": 4,
 "nbformat_minor": 2
}
